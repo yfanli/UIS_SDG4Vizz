{
 "cells": [
  {
   "cell_type": "code",
   "execution_count": 8,
   "metadata": {},
   "outputs": [],
   "source": [
    "import pandas as pd\n",
    "import numpy as np\n",
    "import os"
   ]
  },
  {
   "cell_type": "code",
   "execution_count": 9,
   "metadata": {},
   "outputs": [],
   "source": [
    "sheets = pd.read_excel('sdg441_uis_rawdata.xlsx',None)\n",
    "\n"
   ]
  },
  {
   "cell_type": "code",
   "execution_count": 10,
   "metadata": {},
   "outputs": [],
   "source": [
    "template = pd.read_excel('sdg441_uis_rawdata.xlsx')\n"
   ]
  },
  {
   "cell_type": "code",
   "execution_count": 11,
   "metadata": {},
   "outputs": [
    {
     "data": {
      "text/plain": [
       "(53, 8)"
      ]
     },
     "execution_count": 11,
     "metadata": {},
     "output_type": "execute_result"
    }
   ],
   "source": [
    "template.shape"
   ]
  },
  {
   "cell_type": "code",
   "execution_count": null,
   "metadata": {},
   "outputs": [],
   "source": []
  },
  {
   "cell_type": "code",
   "execution_count": 12,
   "metadata": {},
   "outputs": [
    {
     "name": "stdout",
     "output_type": "stream",
     "text": [
      "(24, 22)\n",
      "(24, 22)\n",
      "(24, 22)\n",
      "(24, 22)\n",
      "(24, 22)\n",
      "(24, 22)\n",
      "(24, 22)\n",
      "(24, 22)\n",
      "(24, 22)\n",
      "(24, 22)\n",
      "(24, 22)\n",
      "(24, 22)\n",
      "(24, 22)\n",
      "(23, 22)\n",
      "(25, 22)\n",
      "(26, 22)\n",
      "(26, 22)\n",
      "(26, 22)\n",
      "(26, 22)\n",
      "(26, 22)\n",
      "(26, 22)\n",
      "(26, 24)\n",
      "(26, 24)\n",
      "(26, 24)\n",
      "(26, 24)\n",
      "(24, 22)\n",
      "(24, 22)\n",
      "(24, 22)\n",
      "(24, 22)\n",
      "(24, 22)\n",
      "(24, 22)\n"
     ]
    }
   ],
   "source": [
    "sheet_df_list = []\n",
    "for sheet_name, sheet_df in sheets.items():\n",
    "    if sheet_name in ['Template','debug']:\n",
    "        continue\n",
    "    else:\n",
    "        print(sheet_df.shape)\n",
    "        sheet_val = sheet_df.values\n",
    "\n",
    "        # foundation learning skills\n",
    "        values = []\n",
    "        values = values+list(sheet_val[4][2:8])\n",
    "        values = values+list(sheet_val[6][2:8])\n",
    "        values = values+list(sheet_val[14][2:22])\n",
    "        values = values+list(sheet_val[15][2:22])\n",
    "        values.append(sheet_val[20][2])\n",
    "        \n",
    "        template_aux = template.copy(deep=True)\n",
    "        template_aux['CO_LONG_NAMW'] = sheet_name\n",
    "        template['IND_YEAR'] = 2019\n",
    "        template_aux['FIG'] = values\n",
    "        template_aux['FOOTNOTE'] = sheet_val[-1][1].split(': ')[1]\n",
    "        sheet_df_list.append(template_aux)"
   ]
  },
  {
   "cell_type": "code",
   "execution_count": 13,
   "metadata": {},
   "outputs": [],
   "source": [
    "df = pd.concat(sheet_df_list)"
   ]
  },
  {
   "cell_type": "code",
   "execution_count": 14,
   "metadata": {},
   "outputs": [],
   "source": [
    "df.to_csv('sdg441_uis.csv')"
   ]
  },
  {
   "cell_type": "code",
   "execution_count": 15,
   "metadata": {},
   "outputs": [
    {
     "data": {
      "text/plain": [
       "'Iraq MICS 6'"
      ]
     },
     "execution_count": 15,
     "metadata": {},
     "output_type": "execute_result"
    }
   ],
   "source": [
    "sheet_val[-1][1].split(': ')[1]"
   ]
  },
  {
   "cell_type": "code",
   "execution_count": 16,
   "metadata": {},
   "outputs": [
    {
     "data": {
      "text/plain": [
       "(20,)"
      ]
     },
     "execution_count": 16,
     "metadata": {},
     "output_type": "execute_result"
    }
   ],
   "source": [
    "sheet_val[14][2:22].shape"
   ]
  },
  {
   "cell_type": "code",
   "execution_count": null,
   "metadata": {},
   "outputs": [],
   "source": []
  },
  {
   "cell_type": "code",
   "execution_count": null,
   "metadata": {},
   "outputs": [],
   "source": []
  },
  {
   "cell_type": "code",
   "execution_count": null,
   "metadata": {},
   "outputs": [],
   "source": []
  },
  {
   "cell_type": "code",
   "execution_count": null,
   "metadata": {},
   "outputs": [],
   "source": []
  },
  {
   "cell_type": "code",
   "execution_count": null,
   "metadata": {},
   "outputs": [],
   "source": []
  }
 ],
 "metadata": {
  "kernelspec": {
   "display_name": "Python 3",
   "language": "python",
   "name": "python3"
  },
  "language_info": {
   "codemirror_mode": {
    "name": "ipython",
    "version": 3
   },
   "file_extension": ".py",
   "mimetype": "text/x-python",
   "name": "python",
   "nbconvert_exporter": "python",
   "pygments_lexer": "ipython3",
   "version": "3.7.9"
  }
 },
 "nbformat": 4,
 "nbformat_minor": 5
}
